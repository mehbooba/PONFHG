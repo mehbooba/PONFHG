{
  "nbformat": 4,
  "nbformat_minor": 0,
  "metadata": {
    "colab": {
      "provenance": []
    },
    "kernelspec": {
      "name": "python3",
      "display_name": "Python 3"
    },
    "language_info": {
      "name": "python"
    }
  },
  "cells": [
    {
      "cell_type": "markdown",
      "source": [
        "#**Visualizing the Explanations**\n",
        "\n",
        "\n",
        "The recommendations can be explained visually using both paths extracted from the hypergraph and also user-similarity heatmaps."
      ],
      "metadata": {
        "id": "tkNXVtaRP4zq"
      }
    },
    {
      "cell_type": "markdown",
      "source": [
        "**Extracting paths from Neutrosophic hypergraphs**\n",
        "\n"
      ],
      "metadata": {
        "id": "lcwh7SZdQTK7"
      }
    },
    {
      "cell_type": "code",
      "execution_count": 1,
      "metadata": {
        "id": "Qn8c0eo4oFQM"
      },
      "outputs": [],
      "source": [
        "def find_paths_containing_vertices(graph, vertices):\n",
        "    paths = []\n",
        "    valid_vertices = [vertex for vertex in vertices if vertex in graph.nodes]\n",
        "\n",
        "    if len(valid_vertices) < 2:\n",
        "        # Not enough valid vertices to find paths\n",
        "        return paths\n",
        "    for source in vertices:\n",
        "        for target in vertices:\n",
        "            if source != target:\n",
        "                paths.extend(nx.all_simple_paths(graph, source=source, target=target))\n",
        "    return paths"
      ]
    },
    {
      "cell_type": "code",
      "source": [
        "target_vertex =partial_list[0] # Replace 'your_target_vertex' with the actual vertex\n",
        "\n",
        "# Find paths containing the specified vertex\n",
        "paths_with_target_vertex = find_paths_containing_vertex(G_transitive, target_vertex)\n",
        "\n",
        "# Print the result\n",
        "print(f\"Paths containing vertex {target_vertex}:\")\n",
        "for path in paths_with_target_vertex:\n",
        "    print(path)\n"
      ],
      "metadata": {
        "id": "BdmELogeoU0t"
      },
      "execution_count": null,
      "outputs": []
    },
    {
      "cell_type": "markdown",
      "source": [
        "**Generating user similarity heatmaps**"
      ],
      "metadata": {
        "id": "QkSpRdjfQoUR"
      }
    },
    {
      "cell_type": "code",
      "source": [
        "def filter_rows_with_non_empty_columns(matrix, column_indices,unum):\n",
        "    result_rows = {}\n",
        "\n",
        "    for i,row in enumerate(matrix):\n",
        "    \tif i!=unum:\n",
        "        \tnon_empty_count = sum(1 for col_idx in column_indices if row[col_idx] >0)\n",
        "        \tif non_empty_count > 0:\n",
        "            \t\tresult_rows[i]=non_empty_count\n",
        "\n",
        "    return result_rows"
      ],
      "metadata": {
        "id": "m54IxR_kPF09"
      },
      "execution_count": null,
      "outputs": []
    },
    {
      "cell_type": "code",
      "source": [
        "unum=5 #replace with the user for whom similarity heatmap is to be generated\n",
        "course_list_original=df_test.loc[df_test['learner_id'] == unum, 'course_id'].tolist()\n",
        "#selecting users who have done same courses in the list random_rec_list and number of matching courses into dict\n",
        "filtered_rows = filter_rows_with_non_empty_columns(adj_mat, rec_list_generated_for_unum,unum)\n",
        "#print(\"SIMILAR USERS WITH ASSOCIATED COURSE LIST\",filtered_rows2)\n",
        "sorted_dict = dict(sorted(filtered_rows.items(), key=lambda item: item[1],reverse=True))\n",
        "\n",
        "\n",
        "# Print the filtered dictionary\n",
        "\n",
        "print(\"Filtered Dictionary- THE DICTIONARY OF USERS DONE SIMILAR COURSES WITH COUNT OF MATCHING COURSES:\", filtered_rows)\n",
        "#Print the result\n",
        "print(sorted_dict)\n",
        "\n",
        "\n",
        "threshold=5# threshold to determine similarity level\n",
        "filtered_dict_list = [key for key, value in sorted_dict.items() if value > threshold]#taking similar users into a list\n",
        "\n",
        "course_list_pulled=[]\n",
        "\n",
        "for row_idx in filtered_dict_list:\n",
        "        for col_idx, value in enumerate(adj_mat[row_idx]):\n",
        "            if value != 0:\n",
        "                course_list_pulled.append(col_idx)\n",
        "\n",
        "\n",
        "course_list_pulled = list(set(course_list_pulled))#removing duplicates\n",
        "print(\"THE COLLECTIVE COURSE LIST FROM SIMILAR USERS IS =course_list_pulled\")\n",
        "print(course_list_pulled)\n",
        "\n",
        "status=all(item in course_list_pulled for item in random_rec_list)\n",
        "\n",
        "print(\"status\",status)\n",
        "\n",
        "df = pd.DataFrame(list(sorted_dict.items()), columns=['User', 'Similarity'])\n",
        "df=df.head()\n",
        "print(\"HEATMAP DATA\")\n",
        "print(df)\n",
        "# Reshape the DataFrame for seaborn heatmap\n",
        "heatmap_data = df.pivot(index='User', columns='Similarity', values='Similarity').fillna(0)\n",
        "print(\"HEATMAP DATA\")\n",
        "print(heatmap_data)\n",
        "# Create a heatmap using seaborn\n",
        "sns.heatmap(heatmap_data, annot=True, cmap='Reds', fmt='.1f', cbar=False)\n",
        "\n",
        "# Show the plot\n",
        "\n",
        "\n",
        "plt.savefig(\"similarity-hm.jpg\")\n",
        "plt.show()"
      ],
      "metadata": {
        "id": "BvT5cF64NOeK"
      },
      "execution_count": null,
      "outputs": []
    }
  ]
}